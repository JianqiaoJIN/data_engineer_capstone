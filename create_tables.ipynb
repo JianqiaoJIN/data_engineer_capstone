{
 "cells": [
  {
   "cell_type": "code",
   "execution_count": 1,
   "metadata": {},
   "outputs": [],
   "source": [
    "import os\n",
    "import psycopg2\n",
    "import configparser"
   ]
  },
  {
   "cell_type": "code",
   "execution_count": 2,
   "metadata": {},
   "outputs": [
    {
     "data": {
      "text/plain": [
       "['config.cfg']"
      ]
     },
     "execution_count": 2,
     "metadata": {},
     "output_type": "execute_result"
    }
   ],
   "source": [
    "config = configparser.ConfigParser()\n",
    "config.read('config.cfg')"
   ]
  },
  {
   "cell_type": "markdown",
   "metadata": {},
   "source": [
    "#### CONNECT TO REDSHIFT CLUSTER"
   ]
  },
  {
   "cell_type": "code",
   "execution_count": 26,
   "metadata": {},
   "outputs": [],
   "source": [
    "conn = psycopg2.connect(\"host={} dbname={} user={} password={} port={}\".format(\n",
    "    config.get('CLUSTER', 'HOST'),\n",
    "    config.get('CLUSTER', 'DB_NAME'),\n",
    "    config.get('CLUSTER', 'DB_USER'),\n",
    "    config.get('CLUSTER', 'DB_PASSWORD'),\n",
    "    config.get('CLUSTER', 'DB_PORT')))\n",
    "cur = conn.cursor()"
   ]
  },
  {
   "cell_type": "markdown",
   "metadata": {},
   "source": [
    "#### CREATE SCHEMA "
   ]
  },
  {
   "cell_type": "code",
   "execution_count": 9,
   "metadata": {},
   "outputs": [],
   "source": [
    "create_schema = \"\"\"CREATE SCHEMA IF NOT EXISTS usa;\"\"\"\n",
    "cur.execute(create_schema)\n",
    "conn.commit()"
   ]
  },
  {
   "cell_type": "markdown",
   "metadata": {},
   "source": [
    "#### CREATE immigration_staging_day TABLE"
   ]
  },
  {
   "cell_type": "code",
   "execution_count": 7,
   "metadata": {},
   "outputs": [],
   "source": [
    "immigration_staging_day_table_drop = \"DROP TABLE IF EXISTS usa.immigration_staging_day\"\n",
    "immigration_staging_day_table_create = (\"\"\"\n",
    "    CREATE TABLE usa.immigration_staging_day(\n",
    "        admission_number INT,\n",
    "        age INT,\n",
    "        gender VARCHAR,\n",
    "        arrival_date VARCHAR,\n",
    "        departure_date VARCHAR,\n",
    "        from_country_code INT,\n",
    "        usa_port_code VARCHAR,\n",
    "        visa_code INT,\n",
    "        travel_way INT);\n",
    "\"\"\")"
   ]
  },
  {
   "cell_type": "code",
   "execution_count": 10,
   "metadata": {},
   "outputs": [],
   "source": [
    "cur.execute(immigration_staging_day_table_drop)\n",
    "cur.execute(immigration_staging_day_table_create)\n",
    "conn.commit()"
   ]
  },
  {
   "cell_type": "markdown",
   "metadata": {},
   "source": [
    "#### CREATE usa_port TABLE"
   ]
  },
  {
   "cell_type": "code",
   "execution_count": 11,
   "metadata": {},
   "outputs": [],
   "source": [
    "usa_port_table_drop = \"DROP TABLE IF EXISTS usa.usa_port\"\n",
    "usa_port_table_create = (\"\"\"\n",
    "    CREATE TABLE usa.usa_port(\n",
    "        code VARCHAR PRIMARY KEY,\n",
    "        city VARCHAR,\n",
    "        state_code VARCHAR,\n",
    "        state VARCHAR);\n",
    "\"\"\")"
   ]
  },
  {
   "cell_type": "code",
   "execution_count": 12,
   "metadata": {},
   "outputs": [],
   "source": [
    "cur.execute(usa_port_table_drop)\n",
    "cur.execute(usa_port_table_create)\n",
    "conn.commit()"
   ]
  },
  {
   "cell_type": "markdown",
   "metadata": {},
   "source": [
    "#### CREATE travel_way TABLE"
   ]
  },
  {
   "cell_type": "code",
   "execution_count": 13,
   "metadata": {},
   "outputs": [],
   "source": [
    "travel_way_table_drop = \"DROP TABLE IF EXISTS usa.travel_way\"\n",
    "travel_way_table_create = (\"\"\"\n",
    "    CREATE TABLE usa.travel_way(\n",
    "        code INT PRIMARY KEY,\n",
    "        description VARCHAR);\n",
    "\"\"\")"
   ]
  },
  {
   "cell_type": "code",
   "execution_count": 14,
   "metadata": {},
   "outputs": [],
   "source": [
    "cur.execute(travel_way_table_drop)\n",
    "cur.execute(travel_way_table_create)\n",
    "conn.commit()"
   ]
  },
  {
   "cell_type": "markdown",
   "metadata": {},
   "source": [
    "#### CREATE visa_code TABLE"
   ]
  },
  {
   "cell_type": "code",
   "execution_count": 15,
   "metadata": {},
   "outputs": [],
   "source": [
    "visa_code_table_drop = \"DROP TABLE IF EXISTS usa.visa_code\"\n",
    "visa_code_table_create = (\"\"\"\n",
    "    CREATE TABLE usa.visa_code(\n",
    "        code INT PRIMARY KEY,\n",
    "        visa VARCHAR);\n",
    "\"\"\")"
   ]
  },
  {
   "cell_type": "code",
   "execution_count": 16,
   "metadata": {},
   "outputs": [],
   "source": [
    "cur.execute(visa_code_table_drop)\n",
    "cur.execute(visa_code_table_create)\n",
    "conn.commit()"
   ]
  },
  {
   "cell_type": "markdown",
   "metadata": {},
   "source": [
    "#### CREATE i94country_code TABLE"
   ]
  },
  {
   "cell_type": "code",
   "execution_count": 17,
   "metadata": {},
   "outputs": [],
   "source": [
    "i94country_code_table_drop = \"DROP TABLE IF EXISTS usa.i94country_code\"\n",
    "i94country_code_table_create = (\"\"\"\n",
    "    CREATE TABLE usa.i94country_code(\n",
    "        code INT PRIMARY KEY,\n",
    "        country VARCHAR);\n",
    "\"\"\")"
   ]
  },
  {
   "cell_type": "code",
   "execution_count": 18,
   "metadata": {},
   "outputs": [],
   "source": [
    "cur.execute(i94country_code_table_drop)\n",
    "cur.execute(i94country_code_table_create)\n",
    "conn.commit()"
   ]
  },
  {
   "cell_type": "markdown",
   "metadata": {},
   "source": [
    "#### CREATE arrival_date TABLE"
   ]
  },
  {
   "cell_type": "code",
   "execution_count": 28,
   "metadata": {},
   "outputs": [],
   "source": [
    "arrival_date_table_drop = \"DROP TABLE IF EXISTS usa.arrival_date\"\n",
    "arrival_date_table_create = (\"\"\"\n",
    "        CREATE TABLE usa.arrival_date(\n",
    "            arrival_date DATE PRIMARY KEY,\n",
    "            arrival_year INT,\n",
    "            arrival_month INT,\n",
    "            arrival_day INT);\n",
    "\"\"\")"
   ]
  },
  {
   "cell_type": "code",
   "execution_count": 29,
   "metadata": {},
   "outputs": [],
   "source": [
    "cur.execute(arrival_date_table_drop)\n",
    "cur.execute(arrival_date_table_create)\n",
    "conn.commit()"
   ]
  },
  {
   "cell_type": "markdown",
   "metadata": {},
   "source": [
    "#### CREATE city_state_travelers_entry TABLE"
   ]
  },
  {
   "cell_type": "code",
   "execution_count": 24,
   "metadata": {},
   "outputs": [],
   "source": [
    "city_state_travelers_entry_drop = \"DROP TABLE IF EXISTS usa.city_state_travelers_entry\"\n",
    "city_state_travelers_entry_create = (\"\"\"\n",
    "    CREATE TABLE usa.city_state_travelers_entry(\n",
    "        record_id INT IDENTITY(1,1) PRIMARY KEY, \n",
    "        admission_number INT,\n",
    "        age INT, \n",
    "        gender VARCHAR, \n",
    "        arrival_date VARCHAR,\n",
    "        departure_date VARCHAR, \n",
    "        from_country_code INT,\n",
    "        from_country VARCHAR, \n",
    "        usa_port_code VARCHAR, \n",
    "        city VARCHAR,\n",
    "        state VARCHAR,\n",
    "        state_code VARCHAR, \n",
    "        visa_code INT,\n",
    "        visa VARCHAR,\n",
    "        travel_way_code INT,\n",
    "        travel_way VARCHAR);\n",
    "\"\"\")"
   ]
  },
  {
   "cell_type": "code",
   "execution_count": 27,
   "metadata": {},
   "outputs": [],
   "source": [
    "cur.execute(city_state_travelers_entry_drop)\n",
    "cur.execute(city_state_travelers_entry_create)\n",
    "conn.commit()"
   ]
  },
  {
   "cell_type": "code",
   "execution_count": 23,
   "metadata": {},
   "outputs": [],
   "source": [
    "conn.close()"
   ]
  }
 ],
 "metadata": {
  "kernelspec": {
   "display_name": "Python 3.7.7 64-bit ('udacity': conda)",
   "language": "python",
   "name": "python37764bitudacitycondaad76f3750f33462f87372f23796945b3"
  },
  "language_info": {
   "codemirror_mode": {
    "name": "ipython",
    "version": 3
   },
   "file_extension": ".py",
   "mimetype": "text/x-python",
   "name": "python",
   "nbconvert_exporter": "python",
   "pygments_lexer": "ipython3",
   "version": "3.7.7"
  }
 },
 "nbformat": 4,
 "nbformat_minor": 4
}
