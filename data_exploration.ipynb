{
 "cells": [
  {
   "cell_type": "markdown",
   "metadata": {},
   "source": [
    "### Data Exploration and Prepare Raw Data"
   ]
  },
  {
   "cell_type": "code",
   "execution_count": 1,
   "metadata": {},
   "outputs": [],
   "source": [
    "import os\n",
    "import datetime\n",
    "import pandas as pd\n",
    "import configparser\n",
    "from pyspark.sql import SparkSession\n",
    "from pyspark.sql.functions import udf, date_format\n",
    "from pyspark.sql.types import StructField, StructType, StringType, LongType, IntegerType, FloatType"
   ]
  },
  {
   "cell_type": "code",
   "execution_count": 2,
   "metadata": {},
   "outputs": [],
   "source": [
    "spark = SparkSession.builder.config(\"spark.jars.packages\", \"org.apache.hadoop:hadoop-aws:2.7.0\").getOrCreate()"
   ]
  },
  {
   "cell_type": "markdown",
   "metadata": {},
   "source": [
    "##### I94 Immigration Data Exploration\n",
    "1. Use Spark to explore the I94 Immigration Data located in: \"data/sas_data/\\*.parquet\"  \n",
    "    1.1 select features which are necessary for further analysis   \n",
    "    1.2 drop duplicated records  \n",
    "    1.3 convert type, name of the features   \n",
    "    1.4 sort the records by feature 'arrival_date' descending  "
   ]
  },
  {
   "cell_type": "code",
   "execution_count": 3,
   "metadata": {},
   "outputs": [],
   "source": [
    "df_immigration_raw = spark.read.parquet(\"data/sas_data/*.parquet\")"
   ]
  },
  {
   "cell_type": "code",
   "execution_count": 4,
   "metadata": {},
   "outputs": [
    {
     "name": "stdout",
     "output_type": "stream",
     "text": [
      "root\n",
      " |-- cicid: double (nullable = true)\n",
      " |-- i94yr: double (nullable = true)\n",
      " |-- i94mon: double (nullable = true)\n",
      " |-- i94cit: double (nullable = true)\n",
      " |-- i94res: double (nullable = true)\n",
      " |-- i94port: string (nullable = true)\n",
      " |-- arrdate: double (nullable = true)\n",
      " |-- i94mode: double (nullable = true)\n",
      " |-- i94addr: string (nullable = true)\n",
      " |-- depdate: double (nullable = true)\n",
      " |-- i94bir: double (nullable = true)\n",
      " |-- i94visa: double (nullable = true)\n",
      " |-- count: double (nullable = true)\n",
      " |-- dtadfile: string (nullable = true)\n",
      " |-- visapost: string (nullable = true)\n",
      " |-- occup: string (nullable = true)\n",
      " |-- entdepa: string (nullable = true)\n",
      " |-- entdepd: string (nullable = true)\n",
      " |-- entdepu: string (nullable = true)\n",
      " |-- matflag: string (nullable = true)\n",
      " |-- biryear: double (nullable = true)\n",
      " |-- dtaddto: string (nullable = true)\n",
      " |-- gender: string (nullable = true)\n",
      " |-- insnum: string (nullable = true)\n",
      " |-- airline: string (nullable = true)\n",
      " |-- admnum: double (nullable = true)\n",
      " |-- fltno: string (nullable = true)\n",
      " |-- visatype: string (nullable = true)\n",
      "\n"
     ]
    }
   ],
   "source": [
    "df_immigration_raw.printSchema()"
   ]
  },
  {
   "cell_type": "code",
   "execution_count": 11,
   "metadata": {},
   "outputs": [],
   "source": [
    "# select necessary columns\n",
    "# admnum: admission number (one person has only one admission number)\n",
    "# i94bir: age \n",
    "# gender : gender\n",
    "# i94yr: arrival year\n",
    "# i94mon: arrival month\n",
    "# arrdate : arrival date\n",
    "# depdate : departure date\n",
    "# i94res: nationality\n",
    "# i94port: destination usa city\n",
    "# i94visa: the reason for immigration\n",
    "# i94mode: traval tools \n",
    "selected_column = [\"admnum\", \"i94bir\", \"gender\",  \"i94yr\", \"i94mon\", \"arrdate\", \"depdate\", \"i94res\", \"i94port\", \"i94visa\", \"i94mode\"]\n",
    "df_immigration = df_immigration_raw.select(selected_column)"
   ]
  },
  {
   "cell_type": "code",
   "execution_count": 12,
   "metadata": {},
   "outputs": [],
   "source": [
    "# Funtion to convert SAS arrival date to datetime format \n",
    "get_date = udf(lambda x: (datetime.datetime(1960, 1, 1).date() + datetime.timedelta(x)).isoformat() if x else None)"
   ]
  },
  {
   "cell_type": "code",
   "execution_count": 13,
   "metadata": {},
   "outputs": [],
   "source": [
    "# convert some columns' name to make them more readable \n",
    "# convert numbers to integer \n",
    "# covert SAS date to datetime format \n",
    "df_immigration = df_immigration.selectExpr('cast(admnum as int) AS admission_number',\n",
    "                          'cast(i94bir as int) AS age',\n",
    "                          'gender',\n",
    "                          'cast(i94yr as int) AS arrival_year',\n",
    "                          'cast(i94mon as int) AS arrival_month',\n",
    "                          'cast(arrdate as int) AS arrival_date', \n",
    "                          'cast(depdate as int) AS departure_date',\n",
    "                          'cast(i94res as int) AS from_country_code', \n",
    "                          'i94port AS usa_port_code',\n",
    "                          'cast(i94visa as int) AS visa_code',\n",
    "                          'cast(i94mode as int) AS travel_way')"
   ]
  },
  {
   "cell_type": "code",
   "execution_count": 14,
   "metadata": {},
   "outputs": [],
   "source": [
    "df_immigration = df_immigration.withColumn(\"arrival_date\", get_date(df_immigration.arrival_date)).\\\n",
    "                                withColumn(\"departure_date\", get_date(df_immigration.departure_date))"
   ]
  },
  {
   "cell_type": "code",
   "execution_count": 16,
   "metadata": {},
   "outputs": [],
   "source": [
    "df_immigration = df_immigration.withColumn(\"arrival_day\", date_format(df_immigration.arrival_date, \"d\"))\n",
    "df_immigration = df_immigration.withColumn(\"arrival_day\", df_immigration.arrival_day.cast(\"int\"))"
   ]
  },
  {
   "cell_type": "code",
   "execution_count": 17,
   "metadata": {},
   "outputs": [
    {
     "name": "stdout",
     "output_type": "stream",
     "text": [
      "+----------------+---+------+------------+-------------+------------+--------------+-----------------+-------------+---------+----------+-----------+\n",
      "|admission_number|age|gender|arrival_year|arrival_month|arrival_date|departure_date|from_country_code|usa_port_code|visa_code|travel_way|arrival_day|\n",
      "+----------------+---+------+------------+-------------+------------+--------------+-----------------+-------------+---------+----------+-----------+\n",
      "|      2147483647| 42|  null|        2016|            4|  2016-04-30|    2016-05-01|              101|          WAS|        2|         1|         30|\n",
      "|      2147483647| 25|     M|        2016|            4|  2016-04-30|    2016-05-14|              101|          NYC|        2|         1|         30|\n",
      "|      2147483647| 54|  null|        2016|            4|  2016-04-30|    2016-05-20|              101|          TAM|        2|         1|         30|\n",
      "+----------------+---+------+------------+-------------+------------+--------------+-----------------+-------------+---------+----------+-----------+\n",
      "only showing top 3 rows\n",
      "\n"
     ]
    }
   ],
   "source": [
    "# order by arrival_date descending \n",
    "df_immigration = df_immigration.orderBy('arrival_date', ascending=False)\n",
    "df_immigration.show(3)"
   ]
  },
  {
   "cell_type": "code",
   "execution_count": 18,
   "metadata": {},
   "outputs": [
    {
     "name": "stdout",
     "output_type": "stream",
     "text": [
      "max arrival date: 2016-04-30\n",
      "min arrival date: 2016-04-01\n"
     ]
    }
   ],
   "source": [
    "# check the maximal and minimal arrival date\n",
    "# maybe it is a good feature to partition immigarion data \n",
    "print(\"max arrival date: {}\".format(df_immigration.select(\"arrival_date\").rdd.max()[0]))\n",
    "print(\"min arrival date: {}\".format(df_immigration.select(\"arrival_date\").rdd.min()[0]))"
   ]
  },
  {
   "cell_type": "code",
   "execution_count": 82,
   "metadata": {},
   "outputs": [
    {
     "data": {
      "text/plain": [
       "(3096302, 2610963)"
      ]
     },
     "execution_count": 82,
     "metadata": {},
     "output_type": "execute_result"
    }
   ],
   "source": [
    "# check duplicates\n",
    "df_immigration.count(), df_immigration.drop_duplicates().count()"
   ]
  },
  {
   "cell_type": "code",
   "execution_count": 19,
   "metadata": {},
   "outputs": [
    {
     "data": {
      "text/plain": [
       "80404"
      ]
     },
     "execution_count": 19,
     "metadata": {},
     "output_type": "execute_result"
    }
   ],
   "source": [
    "# assum that one person only has one admnum \n",
    "# some rows have the same admission number, assum that one person have multiple immigration-records \n",
    "df_immigration.select(\"admission_number\").drop_duplicates().count()"
   ]
  },
  {
   "cell_type": "code",
   "execution_count": 20,
   "metadata": {},
   "outputs": [],
   "source": [
    "# drop duplicate rows \n",
    "df_immigration = df_immigration.drop_duplicates()"
   ]
  },
  {
   "cell_type": "code",
   "execution_count": 21,
   "metadata": {},
   "outputs": [
    {
     "name": "stdout",
     "output_type": "stream",
     "text": [
      "root\n",
      " |-- admission_number: integer (nullable = true)\n",
      " |-- age: integer (nullable = true)\n",
      " |-- gender: string (nullable = true)\n",
      " |-- arrival_year: integer (nullable = true)\n",
      " |-- arrival_month: integer (nullable = true)\n",
      " |-- arrival_date: string (nullable = true)\n",
      " |-- departure_date: string (nullable = true)\n",
      " |-- from_country_code: integer (nullable = true)\n",
      " |-- usa_port_code: string (nullable = true)\n",
      " |-- visa_code: integer (nullable = true)\n",
      " |-- travel_way: integer (nullable = true)\n",
      " |-- arrival_day: integer (nullable = true)\n",
      "\n"
     ]
    }
   ],
   "source": [
    "df_immigration.printSchema()"
   ]
  },
  {
   "cell_type": "markdown",
   "metadata": {},
   "source": [
    "##### Encoding Problem\n",
    "\n",
    "Some features in the I94 Immigration Data are encoded, therefore we must figure out the description of the code     \n",
    "    * usa-port description: \"data/sas_data_description/i94port.csv\"  \n",
    "    * travel-way description: \"data/sas_data_description/i94mode.csv\"  \n",
    "    * traveler-nationality description: \"data/sas_data_description/i94res.csv\"  \n",
    "    * traveler-purpose description: \"data/sas_data_description/i94visa.csv\" \n",
    "    * state-state-code: data/us-cities-demographics.csv"
   ]
  },
  {
   "cell_type": "markdown",
   "metadata": {},
   "source": [
    "##### i94port - USA PORT Description"
   ]
  },
  {
   "cell_type": "code",
   "execution_count": 52,
   "metadata": {},
   "outputs": [],
   "source": [
    "# read i94port.csv => USA port description\n",
    "usa_port = pd.read_csv(\"data/sas_data_description/i94port.csv\", sep = \"=\", header = None, \n",
    "                           names=[\"code\", \"port\"])\n",
    "\n",
    "# Remove whitespaces and single quotes\n",
    "usa_port['code']=usa_port['code'].str.strip().str.replace(\"'\",'')\n",
    "\n",
    "# Create two columns from i94port string: port_city and port_addr\n",
    "# also remove whitespaces and single quotes\n",
    "usa_port['city'], usa_port['state_code'] = usa_port['port'].str.strip().str.replace(\"'\",'').str.strip().str.split(',',1).str\n",
    "\n",
    "# Remove more whitespace from port_state\n",
    "usa_port['state_code']=usa_port['state_code'].str.strip()\n",
    "\n",
    "# Drop port column and keep the two new columns: port_city and port_state\n",
    "usa_port.drop(columns =['port'], inplace = True)\n",
    "\n",
    "# convert city to lower case \n",
    "usa_port['city'] = usa_port['city'].str.lower()"
   ]
  },
  {
   "cell_type": "code",
   "execution_count": 53,
   "metadata": {},
   "outputs": [],
   "source": [
    "usa_demographics = pd.read_csv(\"data/us-cities-demographics.csv\", sep = \";\")\n",
    "# convert column name to lower and replace whitespace or \"-\" by \"_\"\n",
    "usa_demographics.columns = map(str.lower, usa_demographics.columns)\n",
    "usa_demographics.columns = usa_demographics.columns.str.replace(\" \",'_')\n",
    "usa_demographics.columns = usa_demographics.columns.str.replace(\"-\",'_')"
   ]
  },
  {
   "cell_type": "code",
   "execution_count": 54,
   "metadata": {},
   "outputs": [],
   "source": [
    "state = usa_demographics[[ \"state\", \"state_code\"]].drop_duplicates()"
   ]
  },
  {
   "cell_type": "code",
   "execution_count": 55,
   "metadata": {},
   "outputs": [],
   "source": [
    "usa_port = pd.merge(usa_port, state, how = \"left\", on = [\"state_code\"])"
   ]
  },
  {
   "cell_type": "code",
   "execution_count": 57,
   "metadata": {},
   "outputs": [
    {
     "data": {
      "text/plain": [
       "code          object\n",
       "city          object\n",
       "state_code    object\n",
       "state         object\n",
       "dtype: object"
      ]
     },
     "execution_count": 57,
     "metadata": {},
     "output_type": "execute_result"
    }
   ],
   "source": [
    "usa_port.dtypes"
   ]
  },
  {
   "cell_type": "markdown",
   "metadata": {},
   "source": [
    "##### i94mode - Travel Way Description"
   ]
  },
  {
   "cell_type": "code",
   "execution_count": 58,
   "metadata": {},
   "outputs": [],
   "source": [
    "# read i94mode.csv => Travel Way Description\n",
    "travel_way = pd.read_csv(\"data/sas_data_description/i94mode.csv\", sep = \"=\", header = None, \n",
    "                           names=[\"code\", \"description\"])\n",
    "\n",
    "# Remove whitespaces and single quotes\n",
    "travel_way['description']=travel_way['description'].str.strip().str.replace(\"'\",'')"
   ]
  },
  {
   "cell_type": "code",
   "execution_count": 59,
   "metadata": {},
   "outputs": [
    {
     "data": {
      "text/plain": [
       "code            int64\n",
       "description    object\n",
       "dtype: object"
      ]
     },
     "execution_count": 59,
     "metadata": {},
     "output_type": "execute_result"
    }
   ],
   "source": [
    "travel_way.dtypes"
   ]
  },
  {
   "cell_type": "markdown",
   "metadata": {},
   "source": [
    "##### i94res - Traveler Nationality"
   ]
  },
  {
   "cell_type": "code",
   "execution_count": 60,
   "metadata": {},
   "outputs": [],
   "source": [
    "# read i94res.csv => Traveler Nationality\n",
    "country_code = pd.read_csv(\"data/sas_data_description/i94res.csv\", sep = \"=\", header = None,\n",
    "                          names = [\"code\", \"country\"])\n",
    "\n",
    "# Remove whitespaces and single quotes\n",
    "country_code['country']=country_code['country'].str.strip().str.replace(\"'\",'')"
   ]
  },
  {
   "cell_type": "code",
   "execution_count": 61,
   "metadata": {},
   "outputs": [
    {
     "data": {
      "text/plain": [
       "code        int64\n",
       "country    object\n",
       "dtype: object"
      ]
     },
     "execution_count": 61,
     "metadata": {},
     "output_type": "execute_result"
    }
   ],
   "source": [
    "country_code.dtypes"
   ]
  },
  {
   "cell_type": "markdown",
   "metadata": {},
   "source": [
    "###### i94visa - Purpose of Travel"
   ]
  },
  {
   "cell_type": "code",
   "execution_count": 63,
   "metadata": {},
   "outputs": [],
   "source": [
    "# read i94visa.csv => Purpose of Travel¶\n",
    "visa_code = pd.read_csv(\"data/sas_data_description/i94visa.csv\", sep = \"=\", header = None,\n",
    "                          names = [\"code\", \"visa\"])\n",
    "\n",
    "# Remove whitespaces and single quotes\n",
    "visa_code['visa']=visa_code['visa'].str.strip().str.replace(\"'\",'')"
   ]
  },
  {
   "cell_type": "code",
   "execution_count": 64,
   "metadata": {},
   "outputs": [
    {
     "data": {
      "text/plain": [
       "code     int64\n",
       "visa    object\n",
       "dtype: object"
      ]
     },
     "execution_count": 64,
     "metadata": {},
     "output_type": "execute_result"
    }
   ],
   "source": [
    "visa_code.dtypes"
   ]
  },
  {
   "cell_type": "markdown",
   "metadata": {},
   "source": [
    "##### Save"
   ]
  },
  {
   "cell_type": "code",
   "execution_count": 22,
   "metadata": {},
   "outputs": [],
   "source": [
    "immigration_dir = os.path.join(\"data\", \"raw\", \"i94_immigration_data\")"
   ]
  },
  {
   "cell_type": "code",
   "execution_count": 23,
   "metadata": {},
   "outputs": [],
   "source": [
    "df_immigration.write.partitionBy(\"arrival_year\", \"arrival_month\", \"arrival_day\").\\\n",
    "                parquet(immigration_dir, \"overwrite\")"
   ]
  },
  {
   "cell_type": "code",
   "execution_count": 67,
   "metadata": {},
   "outputs": [],
   "source": [
    "immigration_describe_dir = os.path.join(\"data\", \"raw\", \"i94_immigration_labels_description\")"
   ]
  },
  {
   "cell_type": "code",
   "execution_count": 69,
   "metadata": {},
   "outputs": [],
   "source": [
    "usa_port.to_csv(os.path.join(immigration_describe_dir, \"usa_port.csv\"), index = False)"
   ]
  },
  {
   "cell_type": "code",
   "execution_count": 71,
   "metadata": {},
   "outputs": [],
   "source": [
    "if not os.path.exists(immigration_describe_dir):\n",
    "    os.makedirs(immigration_des)"
   ]
  },
  {
   "cell_type": "code",
   "execution_count": 74,
   "metadata": {},
   "outputs": [],
   "source": [
    "usa_port.to_csv(os.path.join(immigration_describe_dir, \"usa_port.csv\"), index = False)\n",
    "travel_way.to_csv(os.path.join(immigration_describe_dir, \"travel_way.csv\"), index = False)\n",
    "visa_code.to_csv(os.path.join(immigration_describe_dir, \"visa_code.csv\"), index = False)\n",
    "country_code.to_csv(os.path.join(immigration_describe_dir, \"country_code.csv\"), index = False)"
   ]
  },
  {
   "cell_type": "code",
   "execution_count": null,
   "metadata": {},
   "outputs": [],
   "source": []
  }
 ],
 "metadata": {
  "kernelspec": {
   "display_name": "Python 3",
   "language": "python",
   "name": "python3"
  },
  "language_info": {
   "codemirror_mode": {
    "name": "ipython",
    "version": 3
   },
   "file_extension": ".py",
   "mimetype": "text/x-python",
   "name": "python",
   "nbconvert_exporter": "python",
   "pygments_lexer": "ipython3",
   "version": "3.7.7"
  }
 },
 "nbformat": 4,
 "nbformat_minor": 4
}
